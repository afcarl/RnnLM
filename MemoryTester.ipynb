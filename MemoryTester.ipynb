{
 "cells": [
  {
   "cell_type": "code",
   "execution_count": 1,
   "metadata": {
    "collapsed": true
   },
   "outputs": [],
   "source": [
    "from tf_example.ptb_word_lm import *\n",
    "import tf_example.reader as reader\n",
    "import matplotlib.pyplot as plt\n",
    "%matplotlib inline"
   ]
  },
  {
   "cell_type": "code",
   "execution_count": 2,
   "metadata": {
    "collapsed": false
   },
   "outputs": [],
   "source": [
    "raw_data = reader.ptb_raw_data(FLAGS.data_path)\n",
    "train_data, valid_data, test_data, _ = raw_data\n",
    "config = get_config()\n",
    "eval_config = get_config()\n",
    "eval_config.batch_size = 1\n",
    "eval_config.num_steps = 1"
   ]
  },
  {
   "cell_type": "code",
   "execution_count": 3,
   "metadata": {
    "collapsed": false
   },
   "outputs": [],
   "source": [
    "sess = tf.InteractiveSession()"
   ]
  },
  {
   "cell_type": "code",
   "execution_count": 4,
   "metadata": {
    "collapsed": false
   },
   "outputs": [],
   "source": [
    "initializer = tf.random_uniform_initializer(-config.init_scale,config.init_scale)\n",
    "with tf.variable_scope(\"model\", reuse=None, initializer=initializer):\n",
    "    m = PTBModel(is_training=True, config=config)\n",
    "with tf.variable_scope(\"model\", reuse=True, initializer=initializer):\n",
    "    mvalid = PTBModel(is_training=False, config=config)\n",
    "    mtest = PTBModel(is_training=False, config=eval_config)\n",
    "#tf.initialize_all_variables().run()\n",
    "ckpt = tf.train.get_checkpoint_state(\"tf_example/run\")\n",
    "m.saver.restore(sess, ckpt.model_checkpoint_path)"
   ]
  },
  {
   "cell_type": "code",
   "execution_count": 12,
   "metadata": {
    "collapsed": false
   },
   "outputs": [],
   "source": [
    "w2d = reader._build_vocab(FLAGS.data_path+'/ptb.train.txt')\n",
    "d2w = {i:w for w, i in w2d.iteritems()}"
   ]
  },
  {
   "cell_type": "code",
   "execution_count": 17,
   "metadata": {
    "collapsed": false
   },
   "outputs": [],
   "source": [
    ""
   ]
  },
  {
   "cell_type": "code",
   "execution_count": 57,
   "metadata": {
    "collapsed": false
   },
   "outputs": [],
   "source": [
    "attns = []\n",
    "xs = []\n",
    "ys = []\n",
    "state = None\n",
    "for x, y in reader.ptb_iterator(test_data, mtest.batch_size, mtest.num_steps):\n",
    "    fetches = [mtest.cost, mtest.final_state, tf.no_op()]\n",
    "    feed_dict = {}\n",
    "    feed_dict[mtest.input_data] = x\n",
    "    feed_dict[mtest.targets] = y\n",
    "    \n",
    "    if state is not None:\n",
    "        for i, (a, hh, c, h) in enumerate(mtest.initial_state):\n",
    "            feed_dict[a] = state[i][0]\n",
    "            feed_dict[hh] = state[i][1]\n",
    "            feed_dict[c] = state[i][2]\n",
    "            feed_dict[h] = state[i][3]\n",
    "    \n",
    "    cost, state, _ = sess.run(fetches, feed_dict)\n",
    "        \n",
    "    xs.append(x)\n",
    "    ys.append(y)\n",
    "    attns.append(state[0][0])\n",
    "    \n",
    "    if len(attns) > 100:\n",
    "        break"
   ]
  },
  {
   "cell_type": "code",
   "execution_count": 58,
   "metadata": {
    "collapsed": false
   },
   "outputs": [],
   "source": [
    "xs = np.squeeze(np.array(xs))\n",
    "ys = np.squeeze(np.array(ys))\n",
    "attns = np.squeeze(np.array(attns))"
   ]
  },
  {
   "cell_type": "code",
   "execution_count": 100,
   "metadata": {
    "collapsed": false
   },
   "outputs": [
    {
     "data": {
      "text/plain": [
       "array([ 0.        ,  0.        ,  0.99999976,  1.98927808,  2.88700008,\n",
       "        2.14362931,  1.88289452,  2.73457432,  3.60418963,  3.80094218], dtype=float32)"
      ]
     },
     "execution_count": 100,
     "metadata": {},
     "output_type": "execute_result"
    }
   ],
   "source": [
    "np.max(np.abs(np.reshape(state[0][2], [-1, eval_config.hidden_size])),axis=1)"
   ]
  },
  {
   "cell_type": "code",
   "execution_count": 101,
   "metadata": {
    "collapsed": false
   },
   "outputs": [
    {
     "data": {
      "text/plain": [
       "array([ 0.        ,  0.        ,  0.76148719,  0.96273857,  0.99378169,\n",
       "        0.92545074,  0.94265407,  0.99038297,  0.99503648,  0.9480496 ], dtype=float32)"
      ]
     },
     "execution_count": 101,
     "metadata": {},
     "output_type": "execute_result"
    }
   ],
   "source": [
    "np.max(np.abs(np.reshape(state[0][3], [-1, eval_config.hidden_size])),axis=1)"
   ]
  },
  {
   "cell_type": "code",
   "execution_count": 102,
   "metadata": {
    "collapsed": false
   },
   "outputs": [
    {
     "data": {
      "text/plain": [
       "array([[  0.00000000e+00],\n",
       "       [  0.00000000e+00],\n",
       "       [  0.00000000e+00],\n",
       "       [  1.10823335e-03],\n",
       "       [  1.38804095e-03],\n",
       "       [  1.57570303e-03],\n",
       "       [  7.61321047e-04],\n",
       "       [  5.09278791e-04],\n",
       "       [  2.04063863e-01],\n",
       "       [  7.90593565e-01]], dtype=float32)"
      ]
     },
     "execution_count": 102,
     "metadata": {},
     "output_type": "execute_result"
    }
   ],
   "source": [
    "state[0][0].T"
   ]
  },
  {
   "cell_type": "code",
   "execution_count": 103,
   "metadata": {
    "collapsed": false
   },
   "outputs": [
    {
     "data": {
      "text/plain": [
       "[<matplotlib.lines.Line2D at 0x7f12c46a09d0>]"
      ]
     },
     "execution_count": 103,
     "metadata": {},
     "output_type": "execute_result"
    },
    {
     "data": {
      "image/png": "[encoded data removed]",
      "text/plain": [
       "<matplotlib.figure.Figure at 0x7f12d841c990>"
      ]
     },
     "metadata": {},
     "output_type": "display_data"
    }
   ],
   "source": [
    "plt.plot(state[0][0].T)"
   ]
  },
  {
   "cell_type": "code",
   "execution_count": 104,
   "metadata": {
    "collapsed": false
   },
   "outputs": [
    {
     "data": {
      "text/plain": [
       "[<matplotlib.lines.Line2D at 0x7f12d84d3890>]"
      ]
     },
     "execution_count": 104,
     "metadata": {},
     "output_type": "execute_result"
    },
    {
     "data": {
      "image/png": "[encoded data removed]",
      "text/plain": [
       "<matplotlib.figure.Figure at 0x7f12d84d3910>"
      ]
     },
     "metadata": {},
     "output_type": "display_data"
    }
   ],
   "source": [
    "plt.plot(state[0][2].T)\n",
    "plt.plot(state[0][3].T)"
   ]
  },
  {
   "cell_type": "code",
   "execution_count": 59,
   "metadata": {
    "collapsed": false
   },
   "outputs": [
    {
     "name": "stdout",
     "output_type": "stream",
     "text": [
      "['no', 'it', 'was', \"n't\", 'black', 'monday', '<eos>', 'but', 'while', 'the', 'new', 'york', 'stock', 'exchange', 'did', \"n't\", 'fall', 'apart', 'friday', 'as', 'the', 'dow', 'jones', 'industrial', 'average', 'plunged', 'N', 'points', 'most', 'of', 'it', 'in', 'the', 'final', 'hour', 'it', 'barely', 'managed', 'to', 'stay', 'this', 'side', 'of', 'chaos', '<eos>', 'some', 'circuit', 'breakers', 'installed', 'after', 'the', 'october', 'N', 'crash', 'failed', 'their', 'first', 'test', 'traders', 'say', 'unable', 'to', 'cool', 'the', 'selling', 'panic', 'in', 'both', 'stocks', 'and', 'futures', '<eos>', 'the', 'N', 'stock', 'specialist', 'firms', 'on', 'the', 'big', 'board', 'floor', 'the', 'buyers', 'and', 'sellers', 'of', 'last', 'resort', 'who', 'were', 'criticized', 'after', 'the', 'N', 'crash', 'once', 'again', 'could', \"n't\", 'handle']\n",
      "['it', 'was', \"n't\", 'black', 'monday', '<eos>', 'but', 'while', 'the', 'new', 'york', 'stock', 'exchange', 'did', \"n't\", 'fall', 'apart', 'friday', 'as', 'the', 'dow', 'jones', 'industrial', 'average', 'plunged', 'N', 'points', 'most', 'of', 'it', 'in', 'the', 'final', 'hour', 'it', 'barely', 'managed', 'to', 'stay', 'this', 'side', 'of', 'chaos', '<eos>', 'some', 'circuit', 'breakers', 'installed', 'after', 'the', 'october', 'N', 'crash', 'failed', 'their', 'first', 'test', 'traders', 'say', 'unable', 'to', 'cool', 'the', 'selling', 'panic', 'in', 'both', 'stocks', 'and', 'futures', '<eos>', 'the', 'N', 'stock', 'specialist', 'firms', 'on', 'the', 'big', 'board', 'floor', 'the', 'buyers', 'and', 'sellers', 'of', 'last', 'resort', 'who', 'were', 'criticized', 'after', 'the', 'N', 'crash', 'once', 'again', 'could', \"n't\", 'handle', 'the']\n"
     ]
    }
   ],
   "source": [
    "print [d2w[t] for t in list(xs)]\n",
    "print [d2w[t] for t in list(ys)]"
   ]
  },
  {
   "cell_type": "code",
   "execution_count": 60,
   "metadata": {
    "collapsed": false
   },
   "outputs": [],
   "source": [
    "focus = []\n",
    "for i in range(len(xs)):\n",
    "    temp = []\n",
    "    for a_id in range(10):\n",
    "        if attns[i, a_id] > 0.2:\n",
    "            temp.append(i-(10-a_id))\n",
    "    focus.append(temp)"
   ]
  },
  {
   "cell_type": "code",
   "execution_count": 61,
   "metadata": {
    "collapsed": false
   },
   "outputs": [
    {
     "name": "stdout",
     "output_type": "stream",
     "text": [
      "it []\n",
      "was ['it']\n",
      "n't ['was']\n",
      "black [\"n't\"]\n",
      "monday ['black']\n",
      "<eos> ['monday']\n",
      "but ['monday', '<eos>']\n",
      "while ['but']\n",
      "the ['but', 'while']\n",
      "new ['the']\n",
      "york ['new']\n",
      "stock ['the', 'new']\n",
      "exchange ['stock']\n",
      "did ['the', 'exchange']\n",
      "n't ['did']\n",
      "fall [\"n't\"]\n",
      "apart ['fall']\n",
      "friday ['apart']\n",
      "as ['apart', 'friday']\n",
      "the ['friday', 'as']\n",
      "dow ['the']\n",
      "jones ['dow']\n",
      "industrial ['dow', 'jones']\n",
      "average ['jones', 'industrial']\n",
      "plunged ['industrial']\n",
      "N ['plunged']\n",
      "points ['N']\n",
      "most ['N']\n",
      "of ['points', 'most']\n",
      "it ['of']\n",
      "in ['most', 'of', 'it']\n",
      "the ['most', 'in']\n",
      "final ['it', 'the']\n",
      "hour ['final']\n",
      "it ['hour']\n",
      "barely ['it']\n",
      "managed ['barely']\n",
      "to ['barely', 'managed']\n",
      "stay ['to']\n",
      "this ['stay']\n",
      "side ['this']\n",
      "of ['this', 'side']\n",
      "chaos ['it', 'this', 'of']\n",
      "<eos> ['chaos']\n",
      "some ['of', '<eos>']\n",
      "circuit ['some']\n",
      "breakers ['some', 'circuit']\n",
      "installed ['some', 'circuit', 'breakers']\n",
      "after ['installed']\n",
      "the ['installed', 'after']\n",
      "october ['the']\n",
      "N ['october']\n",
      "crash ['N']\n",
      "failed ['N', 'crash']\n",
      "their ['failed']\n",
      "first ['failed', 'their']\n",
      "test ['failed', 'their', 'first']\n",
      "traders ['failed', 'first']\n",
      "say ['failed', 'their', 'traders']\n",
      "unable ['say']\n",
      "to ['unable']\n",
      "cool ['to']\n",
      "the ['to', 'cool']\n",
      "selling ['the']\n",
      "panic ['selling']\n",
      "in ['selling', 'panic']\n",
      "both ['panic', 'in']\n",
      "stocks ['in', 'both']\n",
      "and ['stocks']\n",
      "futures ['stocks', 'and']\n",
      "<eos> ['and', 'futures']\n",
      "the ['in', '<eos>']\n",
      "N ['the']\n",
      "stock ['N']\n",
      "specialist ['N', 'stock']\n",
      "firms ['stock', 'specialist']\n",
      "on ['firms']\n",
      "the ['firms', 'on']\n",
      "big ['the']\n",
      "board ['big']\n",
      "floor ['big']\n",
      "the ['big', 'floor']\n",
      "buyers ['floor', 'the']\n",
      "and ['buyers']\n",
      "sellers ['the', 'and']\n",
      "of ['sellers']\n",
      "last ['and', 'of']\n",
      "resort ['last']\n",
      "who ['of']\n",
      "were ['who']\n",
      "criticized ['were']\n",
      "after ['criticized']\n",
      "the ['criticized', 'after']\n",
      "N ['the']\n",
      "crash ['N']\n",
      "once ['crash']\n",
      "again ['crash', 'once']\n",
      "could ['once', 'again']\n",
      "n't ['again', 'could']\n",
      "handle [\"n't\"]\n",
      "the ['handle']\n"
     ]
    }
   ],
   "source": [
    "for i in range(len(xs)):\n",
    "    print d2w[ys[i]], [d2w[ys[t]] for t in focus[i]]"
   ]
  },
  {
   "cell_type": "code",
   "execution_count": null,
   "metadata": {
    "collapsed": false
   },
   "outputs": [],
   "source": [
    ""
   ]
  },
  {
   "cell_type": "code",
   "execution_count": null,
   "metadata": {
    "collapsed": true
   },
   "outputs": [],
   "source": [
    ""
   ]
  }
 ],
 "metadata": {
  "kernelspec": {
   "display_name": "Python [Root]",
   "language": "python",
   "name": "Python [Root]"
  },
  "language_info": {
   "codemirror_mode": {
    "name": "ipython",
    "version": 2.0
   },
   "file_extension": ".py",
   "mimetype": "text/x-python",
   "name": "python",
   "nbconvert_exporter": "python",
   "pygments_lexer": "ipython2",
   "version": "2.7.12"
  }
 },
 "nbformat": 4,
 "nbformat_minor": 0
}